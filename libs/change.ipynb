{
 "cells": [
  {
   "cell_type": "code",
   "execution_count": 2,
   "metadata": {},
   "outputs": [
    {
     "name": "stdout",
     "output_type": "stream",
     "text": [
      "Seed set to: 42 (type: <class 'int'>)\n"
     ]
    }
   ],
   "source": [
    "import sys\n",
    "sys.path.insert(0,\"../auto_agents/SegmentMap/\")\n",
    "\n",
    "from auto_agents.SegmentMap.AnyLoc.utilities import DinoV2ExtractFeatures\n",
    "from auto_agents.SegmentMap import func\n",
    "import os\n",
    "import numpy as np\n",
    "from natsort import natsorted\n",
    "import cv2\n",
    "import torch\n"
   ]
  },
  {
   "cell_type": "code",
   "execution_count": 45,
   "metadata": {},
   "outputs": [],
   "source": [
    "import torch\n",
    "from sklearn.decomposition import PCA\n",
    "import matplotlib.pyplot as plt\n",
    "from sklearn.cluster import KMeans\n"
   ]
  },
  {
   "cell_type": "code",
   "execution_count": 3,
   "metadata": {},
   "outputs": [
    {
     "name": "stderr",
     "output_type": "stream",
     "text": [
      "Using cache found in ./hub/facebookresearch_dinov2_main\n",
      "/home/sourav/workspace/s/sg_habitat/./hub/facebookresearch_dinov2_main/dinov2/layers/swiglu_ffn.py:51: UserWarning: xFormers is not available (SwiGLU)\n",
      "  warnings.warn(\"xFormers is not available (SwiGLU)\")\n",
      "/home/sourav/workspace/s/sg_habitat/./hub/facebookresearch_dinov2_main/dinov2/layers/attention.py:33: UserWarning: xFormers is not available (Attention)\n",
      "  warnings.warn(\"xFormers is not available (Attention)\")\n",
      "/home/sourav/workspace/s/sg_habitat/./hub/facebookresearch_dinov2_main/dinov2/layers/block.py:40: UserWarning: xFormers is not available (Block)\n",
      "  warnings.warn(\"xFormers is not available (Block)\")\n"
     ]
    }
   ],
   "source": [
    "dino = DinoV2ExtractFeatures(\"dinov2_vitg14\", 31, 'value', device='cuda',norm_descs=False)\n"
   ]
  },
  {
   "cell_type": "code",
   "execution_count": null,
   "metadata": {},
   "outputs": [],
   "source": [
    "imgDir = \"~/Downloads/VL-CMU-CD-binary255/train/\"\n",
    "imgDir_t0 = f'{imgDir}/t0/'\n",
    "imgDir_t1 = f'{imgDir}/t1/'\n",
    "imgDir_mask = f'{imgDir}/mask/'\n",
    "imageNames = natsorted(os.listdir(imgDir_t0))\n",
    "\n",
    "def name2Ft(imPath,dinoModel):\n",
    "    img_p = cv2.imread(imPath)\n",
    "    # plt.imshow(img_p)\n",
    "    # plt.show()\n",
    "    ft = func.getAnyLocFt(img_p, dinoModel,upsample=True)\n",
    "    ft /= torch.linalg.norm(ft,axis=1,keepdims=True)\n",
    "    return img_p, ft\n",
    "\n",
    "for i,imgName in enumerate(imageNames):\n",
    "    # if i==0:\n",
    "    #     continue\n",
    "    if imgName[-6:] != '_0.png':\n",
    "        continue\n",
    "    img0, ft0 = name2Ft(f'{imgDir_t0}/{imgName}',dino)\n",
    "    img1, ft1 = name2Ft(f'{imgDir_t1}/{imgName}',dino)\n",
    "    mask = cv2.imread(f'{imgDir_mask}/{imgName}',cv2.IMREAD_GRAYSCALE)\n",
    "    mask = cv2.resize(mask, (ft0.shape[2], ft0.shape[3]), interpolation=cv2.INTER_NEAREST).astype(bool)\n",
    "    labels = mask.reshape(-1)\n",
    "\n",
    "    print(ft0.shape, ft1.shape)\n",
    "    diff = (ft0 - ft1).squeeze().reshape([ft0.shape[1],-1]).T # n x d\n",
    "    # diff /= torch.linalg.norm(diff,axis=1,keepdims=True)\n",
    "\n",
    "    # print(diff.shape)\n",
    "    pca = PCA(n_components=2)\n",
    "    diff_pca = pca.fit_transform(diff.cpu().numpy())\n",
    "    # print(diff_pca.shape)\n",
    "    # plot diff_pca components and color each point through labels\n",
    "    # plt.plot(diff_pca[labels,0],diff_pca[labels,1],'o',alpha=0.5)\n",
    "    # plt.plot(diff_pca[~labels,0],diff_pca[~labels,1],'o',alpha=0.5)\n",
    "    # plt.show()\n",
    "    # cluster the pca features\n",
    "    kmeans = KMeans(n_clusters=2, random_state=0).fit(diff_pca)\n",
    "    # print(kmeans.labels_)\n",
    "    # plt.plot(diff_pca[kmeans.labels_==0,0],diff_pca[kmeans.labels_==0,1],'o',alpha=0.5)\n",
    "    # plt.plot(diff_pca[kmeans.labels_==1,0],diff_pca[kmeans.labels_==1,1],'o',alpha=0.5)\n",
    "    # plt.show()\n",
    "\n",
    "    # assign binary kmeans labels so that for the cluster with the most elements has label 1\n",
    "    if (kmeans.labels_==1).sum() > (kmeans.labels_==0).sum():\n",
    "        kmeans.labels_ = 1 - kmeans.labels_\n",
    "\n",
    "    # plot the t0 and t1 image in top row\n",
    "    # plot both the masks side by side with labels/titles\n",
    "    plt.subplot(2,2,1)\n",
    "    plt.imshow(img0[:,:,::-1])\n",
    "    plt.title('t0')\n",
    "    plt.subplot(2,2,2)\n",
    "    plt.imshow(img1[:,:,::-1])\n",
    "    plt.title('t1')\n",
    "    plt.subplot(2,2,3)\n",
    "    plt.imshow(mask)\n",
    "    plt.title('GT Mask')\n",
    "    plt.subplot(2,2,4)\n",
    "    plt.imshow(kmeans.labels_.reshape(mask.shape))\n",
    "    plt.title('PCA+Kmeans')\n",
    "    plt.tight_layout()\n",
    "    plt.axis('off')\n",
    "    plt.savefig(f'../out/change/VL-CMU-CD-binary255/predMasks/{imgName}')\n",
    "    plt.close()"
   ]
  },
  {
   "cell_type": "markdown",
   "metadata": {},
   "source": []
  },
  {
   "cell_type": "code",
   "execution_count": null,
   "metadata": {},
   "outputs": [],
   "source": []
  }
 ],
 "metadata": {
  "kernelspec": {
   "display_name": "Python 3",
   "language": "python",
   "name": "python3"
  },
  "language_info": {
   "codemirror_mode": {
    "name": "ipython",
    "version": 3
   },
   "file_extension": ".py",
   "mimetype": "text/x-python",
   "name": "python",
   "nbconvert_exporter": "python",
   "pygments_lexer": "ipython3",
   "version": "3.9.18"
  }
 },
 "nbformat": 4,
 "nbformat_minor": 2
}
