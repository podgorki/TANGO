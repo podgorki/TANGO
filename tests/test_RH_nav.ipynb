{
 "cells": [
  {
   "cell_type": "code",
   "execution_count": null,
   "metadata": {},
   "outputs": [],
   "source": [
    "import os, sys\n",
    "# Compute the absolute path to the parent directory\n",
    "script_dir = os.getcwd() # Directory of the script\n",
    "parent_dir = os.path.dirname(script_dir)  # Parent directory\n",
    "%cd \"{parent_dir}\"\n",
    "import auto_agent as AA"
   ]
  },
  {
   "cell_type": "code",
   "execution_count": null,
   "metadata": {},
   "outputs": [],
   "source": [
    "updateNavMesh = True\n",
    "test_scene = \"./data/scene_datasets/habitat-test-scenes/skokloster-castle.glb\"\n",
    "mapName = \"skokloster-castle_20240123162237032019\""
   ]
  },
  {
   "cell_type": "code",
   "execution_count": null,
   "metadata": {},
   "outputs": [],
   "source": [
    "RH = AA.Agent_RoboHop(imgDir=f\"./out/maps/multiPointTrajs/{mapName}/images/\", modelsPath=f\"{os.path.expanduser('~')}/workspace/data/models/segment-anything/\",h5FullPath=f\"./out/RoboHop/{mapName}_nodes.h5\",forceRecomputeGraph=False,**{\"intraNbrsAll\":False, \"comp_G23\":False, \"controlLogsDir\":controlLogsDir})\n",
    "autoAgent = RH"
   ]
  }
 ],
 "metadata": {
  "language_info": {
   "name": "python"
  }
 },
 "nbformat": 4,
 "nbformat_minor": 2
}
